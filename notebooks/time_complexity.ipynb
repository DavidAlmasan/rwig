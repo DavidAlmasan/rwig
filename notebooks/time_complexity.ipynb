{
 "cells": [
  {
   "cell_type": "markdown",
   "metadata": {},
   "source": [
    "# Assess the time comlexity of Theorem 2 vs Theorem 1"
   ]
  },
  {
   "cell_type": "code",
   "execution_count": 1,
   "metadata": {},
   "outputs": [],
   "source": [
    "from functools import reduce\n",
    "import itertools\n",
    "from math import factorial\n",
    "import time\n",
    "import networkx as nx\n",
    "import numpy as np\n",
    "from utils.utils import PartitionManager\n",
    "from discreteMarkovChain import markovChain\n",
    "from pprint import pprint\n",
    "\n",
    "def get_ordered_combinations(state_vector, m):\n",
    "    return list(itertools.permutations(state_vector, m))\n",
    "\n",
    "def generate_contact_network(walker_partition):\n",
    "    \"\"\"\n",
    "    walker_partition = Partition on all walkers\n",
    "    \"\"\"\n",
    "    G = nx.Graph()\n",
    "    cliques = [nx.complete_graph(clique) for clique in walker_partition]\n",
    "    for clique in cliques:\n",
    "        G = nx.compose(G, clique)\n",
    "    return G\n",
    "\n",
    "def sigma(clique, S_k):\n",
    "    return np.sum(np.prod(S_k[:, clique], axis=1))\n",
    "\n",
    "\n",
    "def _generate_sigma_dict(contact_networks, S_k, verbose=False):\n",
    "    \"\"\"\n",
    "    Generate sigma probabilities (independent probabilities of cliques of walkers)\n",
    "    \"\"\"\n",
    "    \n",
    "    sigma_dict = {}\n",
    "    for contact_network in contact_networks.values():\n",
    "        walker_partition = contact_network['partition']\n",
    "        if verbose:\n",
    "            print(f'Walker partition: {walker_partition}')\n",
    "        for clique in walker_partition:\n",
    "            if tuple(sorted(clique)) not in sigma_dict.keys():\n",
    "                if not isinstance(clique[0], int):\n",
    "                    clique = list(reduce(np.union1d, clique))\n",
    "                sigma_dict[tuple(sorted(clique))] = sigma(clique, S_k)\n",
    "                if verbose:\n",
    "                    print(f'Sigma for clique {clique}: {sigma_dict[tuple(sorted(clique))]}')\n",
    "    return sigma_dict\n",
    "\n",
    "def generate_contact_network_probability_theorem1(cliques, sigma_product_dict):\n",
    "    \"\"\"\n",
    "    (Theorem 2): RWIG Logic for computing the probability of a contact network \n",
    "    \"\"\"\n",
    "    \n",
    "    amassed_clique_graphs = PartitionManager(cliques).return_partition(with_union=False)\n",
    "    # t0 = time.time()\n",
    "    G_k_proba = 0.\n",
    "    for g_pi in amassed_clique_graphs:\n",
    "        sigma_product = 1.\n",
    "        num_automorphisms = np.prod([factorial(len(clique)-1) for clique in g_pi])\n",
    "        sign = np.prod([(-1)**(len(clique)-1) for clique in g_pi])\n",
    "        for clique in g_pi:\n",
    "            sigma_product *= sigma_product_dict[tuple(reduce(np.union1d, clique))]\n",
    "        G_k_proba += sign * sigma_product * num_automorphisms\n",
    "\n",
    "    # t1 = time.time()\n",
    "    return G_k_proba,\n",
    "\n",
    "def generate_contact_network_probability_combinatorial(cliques, S_k, state_vector, verbose=False):\n",
    "    proba = 0.\n",
    "    # t0 = time.time()\n",
    "    all_different_clique_states = get_ordered_combinations(state_vector, len(cliques))\n",
    "    if verbose:\n",
    "        print(f'all_different_clique_states {all_different_clique_states}')\n",
    "        print(f'Length of all_different_clique_states {len(all_different_clique_states)}')\n",
    "    for clique_states in all_different_clique_states:\n",
    "        walker_states_probas = [np.prod(S_k[clique_state_index, walkers_in_clique]) \n",
    "                                for clique_state_index, walkers_in_clique in zip(clique_states, cliques)]\n",
    "        joint_clique_proba = np.prod(walker_states_probas)\n",
    "\n",
    "        if verbose:\n",
    "            print(f'different_clique_states: {clique_states}')\n",
    "            print(f'walker states probas {walker_states_probas}')\n",
    "            print(f'joint_clique_proba {joint_clique_proba}')\n",
    "            print(f'----------')\n",
    "        proba += joint_clique_proba\n",
    "    # t1 = time.time()\n",
    "    return proba\n",
    "\n",
    "def generate_contact_network_distribution(contact_networks, S_k, use_theorem1=False, verbose=False, repetitions=1):\n",
    "    \"\"\"\n",
    "    Generate the probability of a contact network realisation\n",
    "    \"\"\"\n",
    "    if verbose:\n",
    "        print(f'Number of possible contact graphs: {len(contact_networks)}')\n",
    "        print(f'Generating sigma probabilities')\n",
    "    if use_theorem1:\n",
    "        t0 = time.time()\n",
    "        for _ in range(repetitions):\n",
    "            sigma_dict = _generate_sigma_dict(contact_networks, S_k, verbose=verbose)\n",
    "        t1 = time.time()\n",
    "        dt_total = (t1 - t0) / repetitions\n",
    "    else:\n",
    "        t0 = time.time()\n",
    "        state_vector = np.arange(0, S_k.shape[0])\n",
    "        t1 = time.time()\n",
    "        dt_total = t1 - t0\n",
    "    # i = 0\n",
    "    t0 = time.time()\n",
    "    for _ in range(repetitions):\n",
    "        for key, contact_network in contact_networks.items():\n",
    "            cliques = contact_network['partition']\n",
    "            if use_theorem1:\n",
    "                contact_networks[key]['proba'] = generate_contact_network_probability_theorem1(cliques, sigma_dict)\n",
    "            else:\n",
    "                contact_networks[key]['proba'] = generate_contact_network_probability_combinatorial(cliques, S_k, state_vector)\n",
    "\n",
    "    t1 = time.time()\n",
    "    dt_total += (t1 - t0) / repetitions\n",
    "        # i += 1\n",
    "        # if i == 2:\n",
    "        #     break\n",
    "    return contact_networks, dt_total\n"
   ]
  },
  {
   "cell_type": "code",
   "execution_count": 2,
   "metadata": {},
   "outputs": [
    {
     "name": "stderr",
     "output_type": "stream",
     "text": [
      "  0%|          | 0/5 [00:00<?, ?it/s]"
     ]
    },
    {
     "name": "stdout",
     "output_type": "stream",
     "text": [
      "------------M=3, N=3------------\n",
      "Time took using theorem 1: 0.00021617865562438963\n",
      "Time took using combinatorial: 0.0002899680137634277\n",
      "Time gain: 1.3413350773503148\n",
      "-----------------------------------\n"
     ]
    },
    {
     "name": "stderr",
     "output_type": "stream",
     "text": []
    },
    {
     "name": "stdout",
     "output_type": "stream",
     "text": [
      "------------M=3, N=4------------\n",
      "Time took using theorem 1: 0.00022609100341796875\n",
      "Time took using combinatorial: 0.0006906577587127685\n",
      "Time gain: 3.054777714600023\n",
      "-----------------------------------\n"
     ]
    },
    {
     "name": "stderr",
     "output_type": "stream",
     "text": []
    },
    {
     "name": "stdout",
     "output_type": "stream",
     "text": [
      "------------M=3, N=5------------\n",
      "Time took using theorem 1: 0.0002209177017211914\n",
      "Time took using combinatorial: 0.00159575252532959\n",
      "Time gain: 7.22328954582148\n",
      "-----------------------------------\n"
     ]
    },
    {
     "name": "stderr",
     "output_type": "stream",
     "text": []
    },
    {
     "name": "stdout",
     "output_type": "stream",
     "text": [
      "------------M=3, N=6------------\n",
      "Time took using theorem 1: 0.00021991090774536133\n",
      "Time took using combinatorial: 0.0031367923736572265\n",
      "Time gain: 14.263923539842658\n",
      "-----------------------------------\n"
     ]
    },
    {
     "name": "stderr",
     "output_type": "stream",
     "text": [
      "100%|██████████| 5/5 [00:59<00:00, 11.99s/it]\n",
      " 20%|██        | 1/5 [00:59<03:59, 59.96s/it]"
     ]
    },
    {
     "name": "stdout",
     "output_type": "stream",
     "text": [
      "------------M=3, N=7------------\n",
      "Time took using theorem 1: 0.0002868143081665039\n",
      "Time took using combinatorial: 0.005096320867538452\n",
      "Time gain: 17.76871209849089\n",
      "-----------------------------------\n"
     ]
    },
    {
     "name": "stderr",
     "output_type": "stream",
     "text": []
    },
    {
     "name": "stdout",
     "output_type": "stream",
     "text": [
      "------------M=4, N=3------------\n",
      "Time took using theorem 1: 0.0009467255592346192\n",
      "Time took using combinatorial: 0.001233387517929077\n",
      "Time gain: 1.3027930913011474\n",
      "-----------------------------------\n"
     ]
    },
    {
     "name": "stderr",
     "output_type": "stream",
     "text": []
    },
    {
     "name": "stdout",
     "output_type": "stream",
     "text": [
      "------------M=4, N=4------------\n",
      "Time took using theorem 1: 0.0015032012939453126\n",
      "Time took using combinatorial: 0.0041367975234985355\n",
      "Time gain: 2.751991726032292\n",
      "-----------------------------------\n"
     ]
    },
    {
     "name": "stderr",
     "output_type": "stream",
     "text": []
    },
    {
     "name": "stdout",
     "output_type": "stream",
     "text": [
      "------------M=4, N=5------------\n",
      "Time took using theorem 1: 0.0015466593265533446\n",
      "Time took using combinatorial: 0.010586759853363038\n",
      "Time gain: 6.844920320595175\n",
      "-----------------------------------\n"
     ]
    },
    {
     "name": "stderr",
     "output_type": "stream",
     "text": []
    },
    {
     "name": "stdout",
     "output_type": "stream",
     "text": [
      "------------M=4, N=6------------\n",
      "Time took using theorem 1: 0.0013332376480102539\n",
      "Time took using combinatorial: 0.021943503904342652\n",
      "Time gain: 16.458809078105094\n",
      "-----------------------------------\n"
     ]
    },
    {
     "name": "stderr",
     "output_type": "stream",
     "text": [
      "100%|██████████| 5/5 [07:25<00:00, 89.17s/it] \n",
      " 40%|████      | 2/5 [08:25<14:20, 286.97s/it]"
     ]
    },
    {
     "name": "stdout",
     "output_type": "stream",
     "text": [
      "------------M=4, N=7------------\n",
      "Time took using theorem 1: 0.0015166447639465331\n",
      "Time took using combinatorial: 0.044426809883117674\n",
      "Time gain: 29.292825148792634\n",
      "-----------------------------------\n"
     ]
    },
    {
     "name": "stderr",
     "output_type": "stream",
     "text": []
    },
    {
     "name": "stdout",
     "output_type": "stream",
     "text": [
      "------------M=5, N=3------------\n",
      "Time took using theorem 1: 0.0035999940395355224\n",
      "Time took using combinatorial: 0.0034806640625\n",
      "Time gain: 0.9668527292753745\n",
      "-----------------------------------\n"
     ]
    },
    {
     "name": "stderr",
     "output_type": "stream",
     "text": []
    },
    {
     "name": "stdout",
     "output_type": "stream",
     "text": [
      "------------M=5, N=4------------\n",
      "Time took using theorem 1: 0.00773522777557373\n",
      "Time took using combinatorial: 0.01805670394897461\n",
      "Time gain: 2.3343467668778928\n",
      "-----------------------------------\n"
     ]
    },
    {
     "name": "stderr",
     "output_type": "stream",
     "text": []
    },
    {
     "name": "stdout",
     "output_type": "stream",
     "text": [
      "------------M=5, N=5------------\n",
      "Time took using theorem 1: 0.009400631427764893\n",
      "Time took using combinatorial: 0.05633736276626587\n",
      "Time gain: 5.992933900149803\n",
      "-----------------------------------\n"
     ]
    },
    {
     "name": "stderr",
     "output_type": "stream",
     "text": []
    },
    {
     "name": "stdout",
     "output_type": "stream",
     "text": [
      "------------M=5, N=6------------\n",
      "Time took using theorem 1: 0.010110042095184327\n",
      "Time took using combinatorial: 0.16301064825057984\n",
      "Time gain: 16.123636945906092\n",
      "-----------------------------------\n"
     ]
    },
    {
     "name": "stderr",
     "output_type": "stream",
     "text": [
      "100%|██████████| 5/5 [07:36<00:00, 91.38s/it] \n",
      " 60%|██████    | 3/5 [16:02<12:09, 364.55s/it]"
     ]
    },
    {
     "name": "stdout",
     "output_type": "stream",
     "text": [
      "------------M=5, N=7------------\n",
      "Time took using theorem 1: 0.011033037185668946\n",
      "Time took using combinatorial: 0.335001895904541\n",
      "Time gain: 30.363524591368396\n",
      "-----------------------------------\n"
     ]
    },
    {
     "name": "stderr",
     "output_type": "stream",
     "text": []
    },
    {
     "name": "stdout",
     "output_type": "stream",
     "text": [
      "------------M=6, N=3------------\n",
      "Time took using theorem 1: 0.01315061960220337\n",
      "Time took using combinatorial: 0.0133921950340271\n",
      "Time gain: 1.0183698897185995\n",
      "-----------------------------------\n"
     ]
    },
    {
     "name": "stderr",
     "output_type": "stream",
     "text": []
    },
    {
     "name": "stdout",
     "output_type": "stream",
     "text": [
      "------------M=6, N=4------------\n",
      "Time took using theorem 1: 0.039862839841842655\n",
      "Time took using combinatorial: 0.07596906204223633\n",
      "Time gain: 1.9057614144814192\n",
      "-----------------------------------\n"
     ]
    },
    {
     "name": "stderr",
     "output_type": "stream",
     "text": []
    },
    {
     "name": "stdout",
     "output_type": "stream",
     "text": [
      "------------M=6, N=5------------\n",
      "Time took using theorem 1: 0.0687043194770813\n",
      "Time took using combinatorial: 0.3155805912017822\n",
      "Time gain: 4.593315145302546\n",
      "-----------------------------------\n"
     ]
    },
    {
     "name": "stderr",
     "output_type": "stream",
     "text": []
    },
    {
     "name": "stdout",
     "output_type": "stream",
     "text": [
      "------------M=6, N=6------------\n",
      "Time took using theorem 1: 0.07686947441101073\n",
      "Time took using combinatorial: 1.030876531600952\n",
      "Time gain: 13.410739952363848\n",
      "-----------------------------------\n"
     ]
    },
    {
     "name": "stderr",
     "output_type": "stream",
     "text": [
      "100%|██████████| 5/5 [46:23<00:00, 556.71s/it]\n",
      " 80%|████████  | 4/5 [1:02:26<21:59, 1319.55s/it]"
     ]
    },
    {
     "name": "stdout",
     "output_type": "stream",
     "text": [
      "------------M=6, N=7------------\n",
      "Time took using theorem 1: 0.07506048631668091\n",
      "Time took using combinatorial: 2.5759030537605287\n",
      "Time gain: 34.31769736866304\n",
      "-----------------------------------\n"
     ]
    },
    {
     "name": "stderr",
     "output_type": "stream",
     "text": []
    },
    {
     "name": "stdout",
     "output_type": "stream",
     "text": [
      "------------M=7, N=3------------\n",
      "Time took using theorem 1: 0.036383433008193966\n",
      "Time took using combinatorial: 0.03347427129745483\n",
      "Time gain: 0.9200415829346297\n",
      "-----------------------------------\n"
     ]
    },
    {
     "name": "stderr",
     "output_type": "stream",
     "text": []
    },
    {
     "name": "stdout",
     "output_type": "stream",
     "text": [
      "------------M=7, N=4------------\n",
      "Time took using theorem 1: 0.19693624320030212\n",
      "Time took using combinatorial: 0.3543056240081787\n",
      "Time gain: 1.799087959892774\n",
      "-----------------------------------\n"
     ]
    },
    {
     "name": "stderr",
     "output_type": "stream",
     "text": []
    },
    {
     "name": "stdout",
     "output_type": "stream",
     "text": [
      "------------M=7, N=5------------\n",
      "Time took using theorem 1: 0.4295324382781982\n",
      "Time took using combinatorial: 1.5102138552665711\n",
      "Time gain: 3.5159483212032536\n",
      "-----------------------------------\n"
     ]
    },
    {
     "name": "stderr",
     "output_type": "stream",
     "text": []
    },
    {
     "name": "stdout",
     "output_type": "stream",
     "text": [
      "------------M=7, N=6------------\n",
      "Time took using theorem 1: 0.6353115320205689\n",
      "Time took using combinatorial: 5.5206505994796755\n",
      "Time gain: 8.6896747835217\n",
      "-----------------------------------\n"
     ]
    },
    {
     "name": "stderr",
     "output_type": "stream",
     "text": [
      "100%|██████████| 5/5 [4:36:00<00:00, 3312.15s/it]\n",
      "100%|██████████| 5/5 [5:38:26<00:00, 4061.40s/it]"
     ]
    },
    {
     "name": "stdout",
     "output_type": "stream",
     "text": [
      "------------M=7, N=7------------\n",
      "Time took using theorem 1: 0.522212140083313\n",
      "Time took using combinatorial: 18.291536707401274\n",
      "Time gain: 35.0270231260481\n",
      "-----------------------------------\n"
     ]
    },
    {
     "name": "stderr",
     "output_type": "stream",
     "text": [
      "\n"
     ]
    },
    {
     "data": {
      "image/png": "[encoded data removed]",
      "text/plain": [
       "<Figure size 640x480 with 2 Axes>"
      ]
     },
     "metadata": {},
     "output_type": "display_data"
    }
   ],
   "source": [
    "\n",
    "from tqdm import tqdm\n",
    "\n",
    "\n",
    "M_list = [3, 4, 5, 6, 7]\n",
    "N_list = [3, 4, 5, 6, 7]\n",
    "\n",
    "theorem1_dts = {}\n",
    "combinatorial_dts = {}\n",
    "time_gain = np.zeros((len(M_list), len(N_list)))\n",
    "for M in tqdm(M_list):\n",
    "    for N in tqdm(N_list):\n",
    "        if M < 5 or N < 5:\n",
    "            repetitions = 5000\n",
    "        else:\n",
    "            repetitions = 500\n",
    "        walker_indices = list(range(M))\n",
    "        contact_network_sample_space = PartitionManager(walker_indices).return_partition()\n",
    "        contact_network_sample_space = [walker_partition for walker_partition in contact_network_sample_space if len(walker_partition) <= N]\n",
    "        contact_networks = {str(walker_partition):\n",
    "                                    {'network': generate_contact_network(walker_partition),\n",
    "                                    'partition': walker_partition,\n",
    "                                    } for _, walker_partition in enumerate(contact_network_sample_space)}\n",
    "\n",
    "        arr = [1/N] * (N-1)\n",
    "        P = np.array(arr + [1-np.sum(arr)]).repeat(N).reshape(N, N).transpose()\n",
    "\n",
    "\n",
    "        mc = markovChain(P.transpose())  # Transpose P to get column-stochastic\n",
    "        mc.computePi('linear')  # Compute stationary distribution\n",
    "\n",
    "        walkers_initial_states = mc.pi.repeat(M).reshape(M, N).transpose()\n",
    "\n",
    "\n",
    "        contact_networks, dt_theorem1 = generate_contact_network_distribution(contact_networks, walkers_initial_states, use_theorem1=True, verbose=False, repetitions=repetitions)\n",
    "\n",
    "        contact_networks, dt_combinatorial = generate_contact_network_distribution(contact_networks, walkers_initial_states, use_theorem1=False, verbose=False, repetitions=repetitions)\n",
    "\n",
    "        theorem1_dts[(M, N)] = dt_theorem1\n",
    "        combinatorial_dts[(M, N)] = dt_combinatorial\n",
    "        time_gain[M_list.index(M), N_list.index(N)] = dt_combinatorial / dt_theorem1\n",
    "\n",
    "        print(f'------------M={M}, N={N}------------')\n",
    "        print(f'Time took using theorem 1: {dt_theorem1}')\n",
    "        print(f'Time took using combinatorial: {dt_combinatorial}')\n",
    "        print(f'Time gain: {dt_combinatorial / dt_theorem1}')\n",
    "        print('-----------------------------------')\n",
    "\n",
    "import seaborn as sns\n",
    "import matplotlib.pyplot as plt\n",
    "import pandas as pd\n",
    "\n",
    "ax = sns.heatmap(time_gain, fmt=\".2f\",\n",
    "                  cmap='crest',\n",
    "                #   cmap=sns.diverging_palette(220, 20, as_cmap=True),\n",
    "                  annot=True,\n",
    "                    xticklabels=N_list, yticklabels=M_list)\n",
    "plt.xlabel('N')\n",
    "plt.ylabel('M')\n",
    "plt.show()\n",
    "\n"
   ]
  },
  {
   "cell_type": "code",
   "execution_count": null,
   "metadata": {},
   "outputs": [],
   "source": []
  },
  {
   "cell_type": "code",
   "execution_count": null,
   "metadata": {},
   "outputs": [],
   "source": []
  },
  {
   "cell_type": "code",
   "execution_count": null,
   "metadata": {},
   "outputs": [],
   "source": []
  }
 ],
 "metadata": {
  "kernelspec": {
   "display_name": "Python 3",
   "language": "python",
   "name": "python3"
  },
  "language_info": {
   "codemirror_mode": {
    "name": "ipython",
    "version": 3
   },
   "file_extension": ".py",
   "mimetype": "text/x-python",
   "name": "python",
   "nbconvert_exporter": "python",
   "pygments_lexer": "ipython3",
   "version": "3.11.4"
  }
 },
 "nbformat": 4,
 "nbformat_minor": 2
}
